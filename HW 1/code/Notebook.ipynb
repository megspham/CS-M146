{
 "cells": [
  {
   "cell_type": "code",
   "execution_count": 94,
   "id": "0a0b1697",
   "metadata": {},
   "outputs": [
    {
     "name": "stdout",
     "output_type": "stream",
     "text": [
      "The autoreload extension is already loaded. To reload it, use:\n",
      "  %reload_ext autoreload\n"
     ]
    }
   ],
   "source": [
    "import numpy as np\n",
    "import matplotlib.pyplot as plt\n",
    "import random\n",
    "import csv\n",
    "from utils import mnist_reader\n",
    "from utils.data_load import load\n",
    "import codes\n",
    "# Load matplotlib images inline\n",
    "%matplotlib inline\n",
    "# These are important for reloading any code you write in external .py files.\n",
    "# see http://stackoverflow.com/questions/1907993/autoreload-of-modules-in-ipython\n",
    "%load_ext autoreload\n",
    "%autoreload 2"
   ]
  },
  {
   "cell_type": "markdown",
   "id": "7b600c97",
   "metadata": {},
   "source": [
    "# Problem 4: Binary Classification\n",
    "\n",
    "Please follow our instructions in the same order to solve the binary classification problem.\n",
    "Please print out the entire results and codes when completed."
   ]
  },
  {
   "cell_type": "code",
   "execution_count": 95,
   "id": "f8738d96",
   "metadata": {},
   "outputs": [
    {
     "name": "stdout",
     "output_type": "stream",
     "text": [
      "Train data shape:  (5000, 784)\n",
      "Train target shape:  (5000, 1)\n",
      "Test data shape:  (500, 784)\n",
      "Test target shape:  (500, 1)\n"
     ]
    }
   ],
   "source": [
    "#X_train, y_train = mnist_reader.load_mnist('fashion-mnist/data/fashion', kind='train')\n",
    "#X_test, y_test = mnist_reader.load_mnist('fashion-mnist/data/fashion', kind='t10k')\n",
    "\n",
    "X_train = np.load('./data/binary_classification/X_train.npy')\n",
    "y_train = np.load('./data/binary_classification/y_train.npy')\n",
    "X_test = np.load('./data/binary_classification/X_test.npy')\n",
    "y_test = np.load('./data/binary_classification/y_test.npy')\n",
    "\n",
    "print('Train data shape: ', X_train.shape)\n",
    "print('Train target shape: ', y_train.shape)\n",
    "print('Test data shape: ',X_test.shape)\n",
    "print('Test target shape: ',y_test.shape)"
   ]
  },
  {
   "cell_type": "code",
   "execution_count": 96,
   "id": "ac8d87ac",
   "metadata": {
    "scrolled": true
   },
   "outputs": [
    {
     "data": {
      "image/png": "[encoded data removed]",
      "text/plain": [
       "<Figure size 432x288 with 1 Axes>"
      ]
     },
     "metadata": {
      "needs_background": "light"
     },
     "output_type": "display_data"
    },
    {
     "name": "stdout",
     "output_type": "stream",
     "text": [
      "label is Shirt\n"
     ]
    }
   ],
   "source": [
    "# PART (a): \n",
    "# To Visualize a point in the dataset\n",
    "index = 11\n",
    "X = np.array(X_train[index], dtype='uint8')\n",
    "X = X.reshape((28, 28))\n",
    "fig = plt.figure()\n",
    "plt.imshow(X, cmap='gray')\n",
    "plt.show()\n",
    "if y_train[index] == 1:\n",
    "    label = 'Dress'\n",
    "else:\n",
    "    label = 'Shirt'\n",
    "print('label is', label)"
   ]
  },
  {
   "cell_type": "markdown",
   "id": "0b25ec28",
   "metadata": {},
   "source": [
    "## Train Perceptron\n",
    "In the following cells, you will build Perceptron Algorithm."
   ]
  },
  {
   "cell_type": "code",
   "execution_count": 100,
   "id": "179b3de7",
   "metadata": {},
   "outputs": [
    {
     "name": "stdout",
     "output_type": "stream",
     "text": [
      "l2 norm value: 1404179381.0000002\n",
      "total loss: [[3.16430545e+09]]\n"
     ]
    },
    {
     "data": {
      "image/png": "[encoded data removed]",
      "text/plain": [
       "<Figure size 432x288 with 1 Axes>"
      ]
     },
     "metadata": {
      "needs_background": "light"
     },
     "output_type": "display_data"
    }
   ],
   "source": [
    "# PART (b),(c): \n",
    "# Implement the perceptron Algorithm and compute the number of mis-classified point\n",
    "N = X_train.shape[0] # Number of data point train\n",
    "N_test = X_test.shape[0] # Number of data point test\n",
    "d = X_train.shape[1] # Number of features\n",
    "loss_hist = []\n",
    "W = np.zeros((d+1,1))\n",
    "X_train_h = np.hstack((np.ones((N,1)), X_train))\n",
    "X_test_h = np.hstack((np.ones((N_test,1)), X_test))\n",
    "# ================================================================ #\n",
    "# YOUR CODE HERE:\n",
    "# complete the following code to plot both the training and test accuracy in the same plot\n",
    "# for m range from 1 to N\n",
    "# ================================================================ #\n",
    "\"\"\"\n",
    "MAX_ITER = 100\n",
    "for n in range(MAX_ITER):\n",
    "    curr_misclass = 0\n",
    "    for x_c in range(N): \n",
    "        alpha = np.dot(W.T,X_train_h[x_c])[0]\n",
    "        #print(alpha)\n",
    "        if (alpha*y_train[x_c]) <= 0:\n",
    "            #print(((y_train[x_c])*X_train_h[x_c]).shape)\n",
    "            W = W + np.multiply((y_train[x_c]),X_train_h[x_c])\n",
    "            curr_misclass += 1\n",
    "    loss_hist.append(curr_misclass)\n",
    "    #print(W)\n",
    "print(loss_hist)    \n",
    "\"\"\"    \n",
    "\n",
    "\n",
    "def perceptron(X, y, lr, epochs):\n",
    "    \n",
    "    # X --> Inputs.\n",
    "    # y --> labels/target.\n",
    "    # lr --> learning rate.\n",
    "    # epochs --> Number of iterations.\n",
    "    \n",
    "    # m-> number of training examples\n",
    "    # n-> number of features \n",
    "    m, n = X.shape\n",
    "    \n",
    "    # Initializing parapeters(theta) to zeros.\n",
    "    # +1 in n+1 for the bias term.\n",
    "    w = np.zeros((n+1,1))\n",
    "    \n",
    "    # Empty list to store how many examples were \n",
    "    # misclassified at every iteration.\n",
    "    n_miss_list = []\n",
    "    total_loss = 0\n",
    "    \n",
    "    # Training.\n",
    "    for epoch in range(epochs):\n",
    "        \n",
    "        # variable to store #misclassified.\n",
    "        n_miss = 0\n",
    "        \n",
    "        # looping for every example.\n",
    "        for idx, x_i in enumerate(X):\n",
    "            \n",
    "            # Insering 1 for bias, X0 = 1.\n",
    "            x_i = np.insert(x_i, 0, 1).reshape(-1,1)\n",
    "                        \n",
    "            # Calculating prediction/hypothesis.\n",
    "            if (np.dot(x_i.T, w) * y[idx]) <= 0:\n",
    "            # Updating if the example is misclassified.\n",
    "                w += lr * (y[idx] * x_i)\n",
    "                # Incrementing by 1.\n",
    "                n_miss += 1\n",
    "                percent_miss = n_miss/m\n",
    "                # Appending percent of misclassified examples at every iteration.                \n",
    "                n_miss_list.append(percent_miss)\n",
    "                # Keep track of total loss\n",
    "                total_loss += np.dot(x_i.T, w) * y[idx]\n",
    "        \n",
    "    return w, n_miss_list, total_loss\n",
    "\n",
    "w_final, loss_list, total_loss = perceptron(X_train, y_train, 1, 1)\n",
    "\n",
    "# Scale to percentages\n",
    "percent_loss_list = np.array(loss_list)*100\n",
    "plt.plot(percent_loss_list)\n",
    "plt.ylabel('Percent Error')\n",
    "plt.xlabel('Iteration')\n",
    "\n",
    "l2 = np.linalg.norm(w_final)**2\n",
    "print('l2 norm value:', l2)\n",
    "print('total loss:', total_loss)\n",
    "\n",
    "# ================================================================ #\n",
    "# END YOUR CODE HERE\n",
    "# ================================================================ #"
   ]
  },
  {
   "cell_type": "markdown",
   "id": "39fc7def",
   "metadata": {},
   "source": [
    "## Train Logistic Regression\n",
    "In the following cells, you will build a logistic regression. You will implement its loss function, then subsequently train it with gradient descent."
   ]
  },
  {
   "cell_type": "code",
   "execution_count": 101,
   "id": "4a9d5aa6",
   "metadata": {},
   "outputs": [],
   "source": [
    "from codes.Logistic import Logistic"
   ]
  },
  {
   "cell_type": "code",
   "execution_count": 102,
   "id": "b7f22319",
   "metadata": {},
   "outputs": [
    {
     "name": "stdout",
     "output_type": "stream",
     "text": [
      "5000\n"
     ]
    },
    {
     "name": "stderr",
     "output_type": "stream",
     "text": [
      "/Users/meganpham/Desktop/CS M146/NEW AND UPDATED/code/codes/Logistic.py:71: RuntimeWarning: overflow encountered in exp\n",
      "  self.w = self.w - (1/(m*10))* np.dot(X_train.T,(1/(1 + np.exp(-1*np.dot(self.w.T,X_train[i]))) - y_logis))\n"
     ]
    },
    {
     "name": "stdout",
     "output_type": "stream",
     "text": [
      "Loss function= [0.69314718]\n",
      "187678.80704850008\n"
     ]
    }
   ],
   "source": [
    "## PART (f): \n",
    "X_train = np.load('./data/binary_classification/X_train.npy')\n",
    "y_train = np.load('./data/binary_classification/y_train.npy')\n",
    "X_test = np.load('./data/binary_classification/X_test.npy')\n",
    "y_test = np.load('./data/binary_classification/y_test.npy')\n",
    "## Complete loss_and_grad function in Logistic.py file and test your results.\n",
    "N,d = X_train.shape\n",
    "logistic = Logistic(d=d, reg_param=0)\n",
    "loss, grad = logistic.loss_and_grad(X_train,y_train)\n",
    "print('Loss function=',loss)\n",
    "print(np.linalg.norm(grad,ord=2)**2)"
   ]
  },
  {
   "cell_type": "code",
   "execution_count": 111,
   "id": "1698d8f6",
   "metadata": {},
   "outputs": [
    {
     "ename": "IndexError",
     "evalue": "index 784 is out of bounds for axis 0 with size 784",
     "output_type": "error",
     "traceback": [
      "\u001b[0;31m---------------------------------------------------------------------------\u001b[0m",
      "\u001b[0;31mIndexError\u001b[0m                                Traceback (most recent call last)",
      "\u001b[1;32m/Users/meganpham/Desktop/CS M146/NEW AND UPDATED/code/Notebook.ipynb Cell 10'\u001b[0m in \u001b[0;36m<module>\u001b[0;34m\u001b[0m\n\u001b[1;32m      <a href='vscode-notebook-cell:/Users/meganpham/Desktop/CS%20M146/NEW%20AND%20UPDATED/code/Notebook.ipynb#ch0000009?line=0'>1</a>\u001b[0m \u001b[39m## PART (g):\u001b[39;00m\n\u001b[1;32m      <a href='vscode-notebook-cell:/Users/meganpham/Desktop/CS%20M146/NEW%20AND%20UPDATED/code/Notebook.ipynb#ch0000009?line=1'>2</a>\u001b[0m \u001b[39m## Complete train_LR function in Logisitc.py file\u001b[39;00m\n\u001b[0;32m----> <a href='vscode-notebook-cell:/Users/meganpham/Desktop/CS%20M146/NEW%20AND%20UPDATED/code/Notebook.ipynb#ch0000009?line=2'>3</a>\u001b[0m loss_history, w \u001b[39m=\u001b[39m logistic\u001b[39m.\u001b[39;49mtrain_LR(X_train,y_train, eta\u001b[39m=\u001b[39;49m\u001b[39m1e-6\u001b[39;49m,batch_size\u001b[39m=\u001b[39;49m\u001b[39m100\u001b[39;49m, num_iters\u001b[39m=\u001b[39;49m\u001b[39m5000\u001b[39;49m)\n\u001b[1;32m      <a href='vscode-notebook-cell:/Users/meganpham/Desktop/CS%20M146/NEW%20AND%20UPDATED/code/Notebook.ipynb#ch0000009?line=3'>4</a>\u001b[0m fig \u001b[39m=\u001b[39m plt\u001b[39m.\u001b[39mfigure()\n\u001b[1;32m      <a href='vscode-notebook-cell:/Users/meganpham/Desktop/CS%20M146/NEW%20AND%20UPDATED/code/Notebook.ipynb#ch0000009?line=4'>5</a>\u001b[0m plt\u001b[39m.\u001b[39mplot(loss_history)\n",
      "File \u001b[0;32m~/Desktop/CS M146/NEW AND UPDATED/code/codes/Logistic.py:124\u001b[0m, in \u001b[0;36mLogistic.train_LR\u001b[0;34m(self, X, y, eta, batch_size, num_iters)\u001b[0m\n\u001b[1;32m    <a href='file:///~/Desktop/CS%20M146/NEW%20AND%20UPDATED/code/codes/Logistic.py?line=121'>122</a>\u001b[0m \u001b[39mfor\u001b[39;00m i \u001b[39min\u001b[39;00m \u001b[39mrange\u001b[39m(\u001b[39mself\u001b[39m\u001b[39m.\u001b[39mw\u001b[39m.\u001b[39mshape[\u001b[39m0\u001b[39m]):\n\u001b[1;32m    <a href='file:///~/Desktop/CS%20M146/NEW%20AND%20UPDATED/code/codes/Logistic.py?line=122'>123</a>\u001b[0m     \u001b[39mfor\u001b[39;00m j \u001b[39min\u001b[39;00m \u001b[39mrange\u001b[39m(batch_size):\n\u001b[0;32m--> <a href='file:///~/Desktop/CS%20M146/NEW%20AND%20UPDATED/code/codes/Logistic.py?line=123'>124</a>\u001b[0m         \u001b[39msum\u001b[39m \u001b[39m+\u001b[39m\u001b[39m=\u001b[39m (y[j] \u001b[39m-\u001b[39m y_pred[j])\u001b[39m*\u001b[39mX[j][i]\n\u001b[1;32m    <a href='file:///~/Desktop/CS%20M146/NEW%20AND%20UPDATED/code/codes/Logistic.py?line=124'>125</a>\u001b[0m     grad[i] \u001b[39m=\u001b[39m (\u001b[39mself\u001b[39m\u001b[39m.\u001b[39mw[i] \u001b[39m-\u001b[39m \u001b[39m2\u001b[39m\u001b[39m*\u001b[39meta\u001b[39m*\u001b[39m\u001b[39msum\u001b[39m \u001b[39m-\u001b[39m eta\u001b[39m*\u001b[39m\u001b[39mself\u001b[39m\u001b[39m.\u001b[39mw[i])\u001b[39m/\u001b[39mbatch_size\n\u001b[1;32m    <a href='file:///~/Desktop/CS%20M146/NEW%20AND%20UPDATED/code/codes/Logistic.py?line=125'>126</a>\u001b[0m     \u001b[39msum\u001b[39m \u001b[39m=\u001b[39m \u001b[39m0\u001b[39m\n",
      "\u001b[0;31mIndexError\u001b[0m: index 784 is out of bounds for axis 0 with size 784"
     ]
    }
   ],
   "source": [
    "## PART (g):\n",
    "## Complete train_LR function in Logisitc.py file\n",
    "loss_history, w = logistic.train_LR(X_train,y_train, eta=1e-6,batch_size=100, num_iters=5000)\n",
    "fig = plt.figure()\n",
    "plt.plot(loss_history)\n",
    "plt.xlabel('iterations')\n",
    "plt.ylabel('Loss function')\n",
    "plt.show()\n",
    "fig.savefig('./plots/LR_loss_hist.pdf')\n",
    "print('Weight squared norm',np.linalg.norm(w,ord=2)**2)\n",
    "print('Final loss',loss_history[-1])"
   ]
  },
  {
   "cell_type": "code",
   "execution_count": 104,
   "id": "e189bbb4",
   "metadata": {},
   "outputs": [
    {
     "name": "stdout",
     "output_type": "stream",
     "text": [
      "25100.0 %\n"
     ]
    }
   ],
   "source": [
    "# PART (h)\n",
    "# Complete predict function in Logisitc.py file and compute the percentage of mis-classified points\n",
    "y_pred = logistic.predict(X_test)\n",
    "test_err = np.sum((y_test!=y_pred))*100/X_test.shape[0]\n",
    "print(test_err,'%')"
   ]
  },
  {
   "cell_type": "code",
   "execution_count": 106,
   "id": "ed9e8d0d",
   "metadata": {},
   "outputs": [
    {
     "data": {
      "image/png": "[encoded data removed]",
      "text/plain": [
       "<Figure size 432x288 with 1 Axes>"
      ]
     },
     "metadata": {
      "needs_background": "light"
     },
     "output_type": "display_data"
    },
    {
     "ename": "FileNotFoundError",
     "evalue": "[Errno 2] No such file or directory: './plots/LR_Batch_test.pdf'",
     "output_type": "error",
     "traceback": [
      "\u001b[0;31m---------------------------------------------------------------------------\u001b[0m",
      "\u001b[0;31mFileNotFoundError\u001b[0m                         Traceback (most recent call last)",
      "\u001b[1;32m/Users/meganpham/Desktop/CS M146/NEW AND UPDATED/code/Notebook.ipynb Cell 12'\u001b[0m in \u001b[0;36m<module>\u001b[0;34m\u001b[0m\n\u001b[1;32m     <a href='vscode-notebook-cell:/Users/meganpham/Desktop/CS%20M146/NEW%20AND%20UPDATED/code/Notebook.ipynb#ch0000011?line=14'>15</a>\u001b[0m plt\u001b[39m.\u001b[39mylabel(\u001b[39m'\u001b[39m\u001b[39mTest_error\u001b[39m\u001b[39m'\u001b[39m)\n\u001b[1;32m     <a href='vscode-notebook-cell:/Users/meganpham/Desktop/CS%20M146/NEW%20AND%20UPDATED/code/Notebook.ipynb#ch0000011?line=15'>16</a>\u001b[0m plt\u001b[39m.\u001b[39mshow()\n\u001b[0;32m---> <a href='vscode-notebook-cell:/Users/meganpham/Desktop/CS%20M146/NEW%20AND%20UPDATED/code/Notebook.ipynb#ch0000011?line=16'>17</a>\u001b[0m fig\u001b[39m.\u001b[39;49msavefig(\u001b[39m'\u001b[39;49m\u001b[39m./plots/LR_Batch_test.pdf\u001b[39;49m\u001b[39m'\u001b[39;49m)\n",
      "File \u001b[0;32m/Library/Frameworks/Python.framework/Versions/3.10/lib/python3.10/site-packages/matplotlib/figure.py:3019\u001b[0m, in \u001b[0;36mFigure.savefig\u001b[0;34m(self, fname, transparent, **kwargs)\u001b[0m\n\u001b[1;32m   <a href='file:///Library/Frameworks/Python.framework/Versions/3.10/lib/python3.10/site-packages/matplotlib/figure.py?line=3014'>3015</a>\u001b[0m     \u001b[39mfor\u001b[39;00m ax \u001b[39min\u001b[39;00m \u001b[39mself\u001b[39m\u001b[39m.\u001b[39maxes:\n\u001b[1;32m   <a href='file:///Library/Frameworks/Python.framework/Versions/3.10/lib/python3.10/site-packages/matplotlib/figure.py?line=3015'>3016</a>\u001b[0m         stack\u001b[39m.\u001b[39menter_context(\n\u001b[1;32m   <a href='file:///Library/Frameworks/Python.framework/Versions/3.10/lib/python3.10/site-packages/matplotlib/figure.py?line=3016'>3017</a>\u001b[0m             ax\u001b[39m.\u001b[39mpatch\u001b[39m.\u001b[39m_cm_set(facecolor\u001b[39m=\u001b[39m\u001b[39m'\u001b[39m\u001b[39mnone\u001b[39m\u001b[39m'\u001b[39m, edgecolor\u001b[39m=\u001b[39m\u001b[39m'\u001b[39m\u001b[39mnone\u001b[39m\u001b[39m'\u001b[39m))\n\u001b[0;32m-> <a href='file:///Library/Frameworks/Python.framework/Versions/3.10/lib/python3.10/site-packages/matplotlib/figure.py?line=3018'>3019</a>\u001b[0m \u001b[39mself\u001b[39;49m\u001b[39m.\u001b[39;49mcanvas\u001b[39m.\u001b[39;49mprint_figure(fname, \u001b[39m*\u001b[39;49m\u001b[39m*\u001b[39;49mkwargs)\n",
      "File \u001b[0;32m/Library/Frameworks/Python.framework/Versions/3.10/lib/python3.10/site-packages/matplotlib/backend_bases.py:2319\u001b[0m, in \u001b[0;36mFigureCanvasBase.print_figure\u001b[0;34m(self, filename, dpi, facecolor, edgecolor, orientation, format, bbox_inches, pad_inches, bbox_extra_artists, backend, **kwargs)\u001b[0m\n\u001b[1;32m   <a href='file:///Library/Frameworks/Python.framework/Versions/3.10/lib/python3.10/site-packages/matplotlib/backend_bases.py?line=2314'>2315</a>\u001b[0m \u001b[39mtry\u001b[39;00m:\n\u001b[1;32m   <a href='file:///Library/Frameworks/Python.framework/Versions/3.10/lib/python3.10/site-packages/matplotlib/backend_bases.py?line=2315'>2316</a>\u001b[0m     \u001b[39m# _get_renderer may change the figure dpi (as vector formats\u001b[39;00m\n\u001b[1;32m   <a href='file:///Library/Frameworks/Python.framework/Versions/3.10/lib/python3.10/site-packages/matplotlib/backend_bases.py?line=2316'>2317</a>\u001b[0m     \u001b[39m# force the figure dpi to 72), so we need to set it again here.\u001b[39;00m\n\u001b[1;32m   <a href='file:///Library/Frameworks/Python.framework/Versions/3.10/lib/python3.10/site-packages/matplotlib/backend_bases.py?line=2317'>2318</a>\u001b[0m     \u001b[39mwith\u001b[39;00m cbook\u001b[39m.\u001b[39m_setattr_cm(\u001b[39mself\u001b[39m\u001b[39m.\u001b[39mfigure, dpi\u001b[39m=\u001b[39mdpi):\n\u001b[0;32m-> <a href='file:///Library/Frameworks/Python.framework/Versions/3.10/lib/python3.10/site-packages/matplotlib/backend_bases.py?line=2318'>2319</a>\u001b[0m         result \u001b[39m=\u001b[39m print_method(\n\u001b[1;32m   <a href='file:///Library/Frameworks/Python.framework/Versions/3.10/lib/python3.10/site-packages/matplotlib/backend_bases.py?line=2319'>2320</a>\u001b[0m             filename,\n\u001b[1;32m   <a href='file:///Library/Frameworks/Python.framework/Versions/3.10/lib/python3.10/site-packages/matplotlib/backend_bases.py?line=2320'>2321</a>\u001b[0m             facecolor\u001b[39m=\u001b[39;49mfacecolor,\n\u001b[1;32m   <a href='file:///Library/Frameworks/Python.framework/Versions/3.10/lib/python3.10/site-packages/matplotlib/backend_bases.py?line=2321'>2322</a>\u001b[0m             edgecolor\u001b[39m=\u001b[39;49medgecolor,\n\u001b[1;32m   <a href='file:///Library/Frameworks/Python.framework/Versions/3.10/lib/python3.10/site-packages/matplotlib/backend_bases.py?line=2322'>2323</a>\u001b[0m             orientation\u001b[39m=\u001b[39;49morientation,\n\u001b[1;32m   <a href='file:///Library/Frameworks/Python.framework/Versions/3.10/lib/python3.10/site-packages/matplotlib/backend_bases.py?line=2323'>2324</a>\u001b[0m             bbox_inches_restore\u001b[39m=\u001b[39;49m_bbox_inches_restore,\n\u001b[1;32m   <a href='file:///Library/Frameworks/Python.framework/Versions/3.10/lib/python3.10/site-packages/matplotlib/backend_bases.py?line=2324'>2325</a>\u001b[0m             \u001b[39m*\u001b[39;49m\u001b[39m*\u001b[39;49mkwargs)\n\u001b[1;32m   <a href='file:///Library/Frameworks/Python.framework/Versions/3.10/lib/python3.10/site-packages/matplotlib/backend_bases.py?line=2325'>2326</a>\u001b[0m \u001b[39mfinally\u001b[39;00m:\n\u001b[1;32m   <a href='file:///Library/Frameworks/Python.framework/Versions/3.10/lib/python3.10/site-packages/matplotlib/backend_bases.py?line=2326'>2327</a>\u001b[0m     \u001b[39mif\u001b[39;00m bbox_inches \u001b[39mand\u001b[39;00m restore_bbox:\n",
      "File \u001b[0;32m/Library/Frameworks/Python.framework/Versions/3.10/lib/python3.10/site-packages/matplotlib/backend_bases.py:1648\u001b[0m, in \u001b[0;36m_check_savefig_extra_args.<locals>.wrapper\u001b[0;34m(*args, **kwargs)\u001b[0m\n\u001b[1;32m   <a href='file:///Library/Frameworks/Python.framework/Versions/3.10/lib/python3.10/site-packages/matplotlib/backend_bases.py?line=1639'>1640</a>\u001b[0m     _api\u001b[39m.\u001b[39mwarn_deprecated(\n\u001b[1;32m   <a href='file:///Library/Frameworks/Python.framework/Versions/3.10/lib/python3.10/site-packages/matplotlib/backend_bases.py?line=1640'>1641</a>\u001b[0m         \u001b[39m'\u001b[39m\u001b[39m3.3\u001b[39m\u001b[39m'\u001b[39m, name\u001b[39m=\u001b[39mname, removal\u001b[39m=\u001b[39m\u001b[39m'\u001b[39m\u001b[39m3.6\u001b[39m\u001b[39m'\u001b[39m,\n\u001b[1;32m   <a href='file:///Library/Frameworks/Python.framework/Versions/3.10/lib/python3.10/site-packages/matplotlib/backend_bases.py?line=1641'>1642</a>\u001b[0m         message\u001b[39m=\u001b[39m\u001b[39m'\u001b[39m\u001b[39m%(name)s\u001b[39;00m\u001b[39m() got unexpected keyword argument \u001b[39m\u001b[39m\"\u001b[39m\u001b[39m'\u001b[39m\n\u001b[1;32m   <a href='file:///Library/Frameworks/Python.framework/Versions/3.10/lib/python3.10/site-packages/matplotlib/backend_bases.py?line=1642'>1643</a>\u001b[0m                 \u001b[39m+\u001b[39m arg \u001b[39m+\u001b[39m \u001b[39m'\u001b[39m\u001b[39m\"\u001b[39m\u001b[39m which is no longer supported as of \u001b[39m\u001b[39m'\u001b[39m\n\u001b[1;32m   <a href='file:///Library/Frameworks/Python.framework/Versions/3.10/lib/python3.10/site-packages/matplotlib/backend_bases.py?line=1643'>1644</a>\u001b[0m                 \u001b[39m'\u001b[39m\u001b[39m%(since)s\u001b[39;00m\u001b[39m and will become an error \u001b[39m\u001b[39m'\u001b[39m\n\u001b[1;32m   <a href='file:///Library/Frameworks/Python.framework/Versions/3.10/lib/python3.10/site-packages/matplotlib/backend_bases.py?line=1644'>1645</a>\u001b[0m                 \u001b[39m'\u001b[39m\u001b[39m%(removal)s\u001b[39;00m\u001b[39m'\u001b[39m)\n\u001b[1;32m   <a href='file:///Library/Frameworks/Python.framework/Versions/3.10/lib/python3.10/site-packages/matplotlib/backend_bases.py?line=1645'>1646</a>\u001b[0m     kwargs\u001b[39m.\u001b[39mpop(arg)\n\u001b[0;32m-> <a href='file:///Library/Frameworks/Python.framework/Versions/3.10/lib/python3.10/site-packages/matplotlib/backend_bases.py?line=1647'>1648</a>\u001b[0m \u001b[39mreturn\u001b[39;00m func(\u001b[39m*\u001b[39;49margs, \u001b[39m*\u001b[39;49m\u001b[39m*\u001b[39;49mkwargs)\n",
      "File \u001b[0;32m/Library/Frameworks/Python.framework/Versions/3.10/lib/python3.10/site-packages/matplotlib/_api/deprecation.py:386\u001b[0m, in \u001b[0;36mdelete_parameter.<locals>.wrapper\u001b[0;34m(*inner_args, **inner_kwargs)\u001b[0m\n\u001b[1;32m    <a href='file:///Library/Frameworks/Python.framework/Versions/3.10/lib/python3.10/site-packages/matplotlib/_api/deprecation.py?line=380'>381</a>\u001b[0m \u001b[39m@functools\u001b[39m\u001b[39m.\u001b[39mwraps(func)\n\u001b[1;32m    <a href='file:///Library/Frameworks/Python.framework/Versions/3.10/lib/python3.10/site-packages/matplotlib/_api/deprecation.py?line=381'>382</a>\u001b[0m \u001b[39mdef\u001b[39;00m \u001b[39mwrapper\u001b[39m(\u001b[39m*\u001b[39minner_args, \u001b[39m*\u001b[39m\u001b[39m*\u001b[39minner_kwargs):\n\u001b[1;32m    <a href='file:///Library/Frameworks/Python.framework/Versions/3.10/lib/python3.10/site-packages/matplotlib/_api/deprecation.py?line=382'>383</a>\u001b[0m     \u001b[39mif\u001b[39;00m \u001b[39mlen\u001b[39m(inner_args) \u001b[39m<\u001b[39m\u001b[39m=\u001b[39m name_idx \u001b[39mand\u001b[39;00m name \u001b[39mnot\u001b[39;00m \u001b[39min\u001b[39;00m inner_kwargs:\n\u001b[1;32m    <a href='file:///Library/Frameworks/Python.framework/Versions/3.10/lib/python3.10/site-packages/matplotlib/_api/deprecation.py?line=383'>384</a>\u001b[0m         \u001b[39m# Early return in the simple, non-deprecated case (much faster than\u001b[39;00m\n\u001b[1;32m    <a href='file:///Library/Frameworks/Python.framework/Versions/3.10/lib/python3.10/site-packages/matplotlib/_api/deprecation.py?line=384'>385</a>\u001b[0m         \u001b[39m# calling bind()).\u001b[39;00m\n\u001b[0;32m--> <a href='file:///Library/Frameworks/Python.framework/Versions/3.10/lib/python3.10/site-packages/matplotlib/_api/deprecation.py?line=385'>386</a>\u001b[0m         \u001b[39mreturn\u001b[39;00m func(\u001b[39m*\u001b[39;49minner_args, \u001b[39m*\u001b[39;49m\u001b[39m*\u001b[39;49minner_kwargs)\n\u001b[1;32m    <a href='file:///Library/Frameworks/Python.framework/Versions/3.10/lib/python3.10/site-packages/matplotlib/_api/deprecation.py?line=386'>387</a>\u001b[0m     arguments \u001b[39m=\u001b[39m signature\u001b[39m.\u001b[39mbind(\u001b[39m*\u001b[39minner_args, \u001b[39m*\u001b[39m\u001b[39m*\u001b[39minner_kwargs)\u001b[39m.\u001b[39marguments\n\u001b[1;32m    <a href='file:///Library/Frameworks/Python.framework/Versions/3.10/lib/python3.10/site-packages/matplotlib/_api/deprecation.py?line=387'>388</a>\u001b[0m     \u001b[39mif\u001b[39;00m is_varargs \u001b[39mand\u001b[39;00m arguments\u001b[39m.\u001b[39mget(name):\n",
      "File \u001b[0;32m/Library/Frameworks/Python.framework/Versions/3.10/lib/python3.10/site-packages/matplotlib/backends/backend_pdf.py:2778\u001b[0m, in \u001b[0;36mFigureCanvasPdf.print_pdf\u001b[0;34m(self, filename, dpi, bbox_inches_restore, metadata)\u001b[0m\n\u001b[1;32m   <a href='file:///Library/Frameworks/Python.framework/Versions/3.10/lib/python3.10/site-packages/matplotlib/backends/backend_pdf.py?line=2775'>2776</a>\u001b[0m     file \u001b[39m=\u001b[39m filename\u001b[39m.\u001b[39m_file\n\u001b[1;32m   <a href='file:///Library/Frameworks/Python.framework/Versions/3.10/lib/python3.10/site-packages/matplotlib/backends/backend_pdf.py?line=2776'>2777</a>\u001b[0m \u001b[39melse\u001b[39;00m:\n\u001b[0;32m-> <a href='file:///Library/Frameworks/Python.framework/Versions/3.10/lib/python3.10/site-packages/matplotlib/backends/backend_pdf.py?line=2777'>2778</a>\u001b[0m     file \u001b[39m=\u001b[39m PdfFile(filename, metadata\u001b[39m=\u001b[39;49mmetadata)\n\u001b[1;32m   <a href='file:///Library/Frameworks/Python.framework/Versions/3.10/lib/python3.10/site-packages/matplotlib/backends/backend_pdf.py?line=2778'>2779</a>\u001b[0m \u001b[39mtry\u001b[39;00m:\n\u001b[1;32m   <a href='file:///Library/Frameworks/Python.framework/Versions/3.10/lib/python3.10/site-packages/matplotlib/backends/backend_pdf.py?line=2779'>2780</a>\u001b[0m     file\u001b[39m.\u001b[39mnewPage(width, height)\n",
      "File \u001b[0;32m/Library/Frameworks/Python.framework/Versions/3.10/lib/python3.10/site-packages/matplotlib/backends/backend_pdf.py:654\u001b[0m, in \u001b[0;36mPdfFile.__init__\u001b[0;34m(self, filename, metadata)\u001b[0m\n\u001b[1;32m    <a href='file:///Library/Frameworks/Python.framework/Versions/3.10/lib/python3.10/site-packages/matplotlib/backends/backend_pdf.py?line=651'>652</a>\u001b[0m \u001b[39mself\u001b[39m\u001b[39m.\u001b[39moriginal_file_like \u001b[39m=\u001b[39m \u001b[39mNone\u001b[39;00m\n\u001b[1;32m    <a href='file:///Library/Frameworks/Python.framework/Versions/3.10/lib/python3.10/site-packages/matplotlib/backends/backend_pdf.py?line=652'>653</a>\u001b[0m \u001b[39mself\u001b[39m\u001b[39m.\u001b[39mtell_base \u001b[39m=\u001b[39m \u001b[39m0\u001b[39m\n\u001b[0;32m--> <a href='file:///Library/Frameworks/Python.framework/Versions/3.10/lib/python3.10/site-packages/matplotlib/backends/backend_pdf.py?line=653'>654</a>\u001b[0m fh, opened \u001b[39m=\u001b[39m cbook\u001b[39m.\u001b[39;49mto_filehandle(filename, \u001b[39m\"\u001b[39;49m\u001b[39mwb\u001b[39;49m\u001b[39m\"\u001b[39;49m, return_opened\u001b[39m=\u001b[39;49m\u001b[39mTrue\u001b[39;49;00m)\n\u001b[1;32m    <a href='file:///Library/Frameworks/Python.framework/Versions/3.10/lib/python3.10/site-packages/matplotlib/backends/backend_pdf.py?line=654'>655</a>\u001b[0m \u001b[39mif\u001b[39;00m \u001b[39mnot\u001b[39;00m opened:\n\u001b[1;32m    <a href='file:///Library/Frameworks/Python.framework/Versions/3.10/lib/python3.10/site-packages/matplotlib/backends/backend_pdf.py?line=655'>656</a>\u001b[0m     \u001b[39mtry\u001b[39;00m:\n",
      "File \u001b[0;32m/Library/Frameworks/Python.framework/Versions/3.10/lib/python3.10/site-packages/matplotlib/cbook/__init__.py:451\u001b[0m, in \u001b[0;36mto_filehandle\u001b[0;34m(fname, flag, return_opened, encoding)\u001b[0m\n\u001b[1;32m    <a href='file:///Library/Frameworks/Python.framework/Versions/3.10/lib/python3.10/site-packages/matplotlib/cbook/__init__.py?line=448'>449</a>\u001b[0m         fh \u001b[39m=\u001b[39m bz2\u001b[39m.\u001b[39mBZ2File(fname, flag)\n\u001b[1;32m    <a href='file:///Library/Frameworks/Python.framework/Versions/3.10/lib/python3.10/site-packages/matplotlib/cbook/__init__.py?line=449'>450</a>\u001b[0m     \u001b[39melse\u001b[39;00m:\n\u001b[0;32m--> <a href='file:///Library/Frameworks/Python.framework/Versions/3.10/lib/python3.10/site-packages/matplotlib/cbook/__init__.py?line=450'>451</a>\u001b[0m         fh \u001b[39m=\u001b[39m \u001b[39mopen\u001b[39;49m(fname, flag, encoding\u001b[39m=\u001b[39;49mencoding)\n\u001b[1;32m    <a href='file:///Library/Frameworks/Python.framework/Versions/3.10/lib/python3.10/site-packages/matplotlib/cbook/__init__.py?line=451'>452</a>\u001b[0m     opened \u001b[39m=\u001b[39m \u001b[39mTrue\u001b[39;00m\n\u001b[1;32m    <a href='file:///Library/Frameworks/Python.framework/Versions/3.10/lib/python3.10/site-packages/matplotlib/cbook/__init__.py?line=452'>453</a>\u001b[0m \u001b[39melif\u001b[39;00m \u001b[39mhasattr\u001b[39m(fname, \u001b[39m'\u001b[39m\u001b[39mseek\u001b[39m\u001b[39m'\u001b[39m):\n",
      "\u001b[0;31mFileNotFoundError\u001b[0m: [Errno 2] No such file or directory: './plots/LR_Batch_test.pdf'"
     ]
    }
   ],
   "source": [
    "## PART (i): \n",
    "Batch = [1, 50 , 100, 200, 300]\n",
    "test_err = np.zeros((len(Batch),1))\n",
    "# ================================================================ #\n",
    "# YOUR CODE HERE:\n",
    "# Train the Logistic regression for different batch size. Avergae the test error over 10 times\n",
    "# ================================================================ #\n",
    "\n",
    "# ================================================================ #\n",
    "# END YOUR CODE HERE\n",
    "# ================================================================ #\n",
    "fig = plt.figure()\n",
    "plt.plot(Batch,test_err)\n",
    "plt.xlabel('Batch_size')\n",
    "plt.ylabel('Test_error')\n",
    "plt.show()\n",
    "fig.savefig('./plots/LR_Batch_test.pdf')"
   ]
  },
  {
   "cell_type": "markdown",
   "id": "c8b02faa",
   "metadata": {},
   "source": [
    "# Problem 5: Linear Regression\n",
    "Please follow our instructions in the same order to solve the linear regresssion problem.\n",
    "\n",
    "Please print out the entire results and codes when completed."
   ]
  },
  {
   "cell_type": "code",
   "execution_count": 37,
   "id": "f58463ae",
   "metadata": {},
   "outputs": [
    {
     "name": "stdout",
     "output_type": "stream",
     "text": [
      "Train data shape:  (30, 1)\n",
      "Train target shape:  (30,)\n",
      "Test data shape:  (30, 1)\n",
      "Test target shape:  (30,)\n"
     ]
    }
   ],
   "source": [
    "def get_data():\n",
    "    \"\"\"\n",
    "    Load the dataset from disk and perform preprocessing to prepare it for the linear regression problem.   \n",
    "    \"\"\"\n",
    "    X_train, y_train = load('./data/regression/regression_train.csv')\n",
    "    X_test, y_test = load('./data/regression/regression_test.csv')\n",
    "    return X_train, y_train, X_test, y_test\n",
    "\n",
    "X_train, y_train, X_test, y_test= get_data()  \n",
    "\n",
    "\n",
    "print('Train data shape: ', X_train.shape)\n",
    "print('Train target shape: ', y_train.shape)\n",
    "print('Test data shape: ',X_test.shape)\n",
    "print('Test target shape: ',y_test.shape)"
   ]
  },
  {
   "cell_type": "code",
   "execution_count": 38,
   "id": "dd86d6ee",
   "metadata": {},
   "outputs": [
    {
     "data": {
      "image/png": "[encoded data removed]",
      "text/plain": [
       "<Figure size 432x288 with 1 Axes>"
      ]
     },
     "metadata": {
      "needs_background": "light"
     },
     "output_type": "display_data"
    }
   ],
   "source": [
    "## PART (a): \n",
    "## Plot the training and test data ##\n",
    "\n",
    "plt.plot(X_train, y_train,'o', color='black')\n",
    "plt.plot(X_test, y_test,'o', color='blue')\n",
    "plt.xlabel('Train data')\n",
    "plt.ylabel('Target')\n",
    "plt.show()"
   ]
  },
  {
   "cell_type": "markdown",
   "id": "f811ca3b",
   "metadata": {},
   "source": [
    "## Training Linear Regression\n",
    "In the following cells, you will build a linear regression. You will implement its loss function, then subsequently train it with gradient descent. You will choose the learning rate of gradient descent to optimize its classification performance. Finally, you will get the opimal solution using closed form expression."
   ]
  },
  {
   "cell_type": "code",
   "execution_count": 45,
   "id": "15b2f9e7",
   "metadata": {},
   "outputs": [],
   "source": [
    "from codes.Regression import Regression"
   ]
  },
  {
   "cell_type": "code",
   "execution_count": 70,
   "id": "b1342f60",
   "metadata": {},
   "outputs": [
    {
     "name": "stdout",
     "output_type": "stream",
     "text": [
      "Loss value 4.282380633012861\n",
      "Gradient value [[ -3.19217252]\n",
      " [-10.44504584]]\n"
     ]
    }
   ],
   "source": [
    "## PART (c): \n",
    "## Complete loss_and_grad function in Regression.py file and test your results.\n",
    "regression = Regression(m=1, reg_param=0)\n",
    "loss, grad = regression.loss_and_grad(X_train,y_train)\n",
    "print('Loss value',loss)\n",
    "print('Gradient value',grad)\n",
    "##"
   ]
  },
  {
   "cell_type": "code",
   "execution_count": 82,
   "id": "f5d3fde2",
   "metadata": {},
   "outputs": [
    {
     "data": {
      "image/png": "[encoded data removed]",
      "text/plain": [
       "<Figure size 432x288 with 1 Axes>"
      ]
     },
     "metadata": {
      "needs_background": "light"
     },
     "output_type": "display_data"
    },
    {
     "name": "stdout",
     "output_type": "stream",
     "text": [
      "[[-0.00333443]\n",
      " [-0.0058999 ]]\n",
      "Final loss: 2.165127693110372\n"
     ]
    }
   ],
   "source": [
    "## PART (d): \n",
    "## Complete train_LR function in Regression.py file \n",
    "loss_history, w = regression.train_LR(X_train,y_train, eta=1e-3,batch_size=30, num_iters=10000)\n",
    "plt.plot(loss_history)\n",
    "plt.xlabel('iterations')\n",
    "plt.ylabel('Loss function')\n",
    "plt.show()\n",
    "print(w)\n",
    "print('Final loss:',loss_history[-1])"
   ]
  },
  {
   "cell_type": "code",
   "execution_count": 84,
   "id": "44c37de4",
   "metadata": {},
   "outputs": [
    {
     "name": "stderr",
     "output_type": "stream",
     "text": [
      "/Library/Frameworks/Python.framework/Versions/3.10/lib/python3.10/site-packages/numpy/core/fromnumeric.py:86: RuntimeWarning: overflow encountered in reduce\n",
      "  return ufunc.reduce(obj, axis, dtype, out, **passkwargs)\n",
      "/Users/meganpham/Desktop/CS M146/NEW AND UPDATED/code/codes/Regression.py:153: RuntimeWarning: overflow encountered in square\n",
      "  loss = (np.sum(np.square(y_pred - y))/batch_size + param*np.linalg.norm(w[1:m]))/2\n",
      "/Users/meganpham/Desktop/CS M146/NEW AND UPDATED/code/codes/Regression.py:148: RuntimeWarning: overflow encountered in double_scalars\n",
      "  sum += (y[j] - y_pred[j])*x_new[j][i]\n",
      "/Users/meganpham/Desktop/CS M146/NEW AND UPDATED/code/codes/Regression.py:149: RuntimeWarning: invalid value encountered in multiply\n",
      "  grad[i] = (w[i] - 2*eta*sum - eta*param*w[i])/batch_size\n"
     ]
    },
    {
     "data": {
      "image/png": "[encoded data removed]",
      "text/plain": [
       "<Figure size 432x288 with 1 Axes>"
      ]
     },
     "metadata": {
      "needs_background": "light"
     },
     "output_type": "display_data"
    }
   ],
   "source": [
    "## PART (d) (Different Learning Rates):\n",
    "from numpy.linalg import norm\n",
    "lrs = [1e-1, 1e-2, 1e-3, 1e-4]\n",
    "test_err = np.zeros((len(lrs),1))\n",
    "# ================================================================ #\n",
    "# YOUR CODE HERE:\n",
    "# Train the Logistic regression for different learning rates and average the test error over 10 times\n",
    "# ================================================================ #\n",
    "sum = 0\n",
    "trials = 10\n",
    "for i in range(len(lrs)):\n",
    "    for j in range(trials):\n",
    "        sum += regression.train_LR(X_train,y_train, eta=lrs[i],batch_size=30, num_iters=10000)[0][-1]\n",
    "    test_err[i] = sum/trials\n",
    "    sum = 0\n",
    "# ================================================================ #\n",
    "# END YOUR CODE HERE\n",
    "# ================================================================ #\n",
    "fig = plt.figure()\n",
    "plt.plot(lrs,test_err)\n",
    "plt.xlabel('Learning Rate')\n",
    "plt.ylabel('Test_error')\n",
    "plt.show()\n",
    "#fig.savefig('./plots/LR_Batch_test.pdf')"
   ]
  },
  {
   "cell_type": "code",
   "execution_count": 67,
   "id": "a89a015f",
   "metadata": {},
   "outputs": [
    {
     "name": "stdout",
     "output_type": "stream",
     "text": [
      "Optimal solution loss 2.4308131507365043\n",
      "Optimal solution gradient [0.76186575]\n"
     ]
    }
   ],
   "source": [
    "## PART (e): \n",
    "## Complete closed_form function in Regression.py file\n",
    "loss_2, w_2 = regression.closed_form(X_train, y_train)\n",
    "print('Optimal solution loss',loss_2)\n",
    "print('Optimal solution gradient',w_2)"
   ]
  },
  {
   "cell_type": "code",
   "execution_count": 85,
   "id": "5851b01c",
   "metadata": {},
   "outputs": [
    {
     "data": {
      "image/png": "[encoded data removed]",
      "text/plain": [
       "<Figure size 432x288 with 1 Axes>"
      ]
     },
     "metadata": {
      "needs_background": "light"
     },
     "output_type": "display_data"
    }
   ],
   "source": [
    "## PART (g): \n",
    "train_loss=np.zeros((10,1))\n",
    "test_loss=np.zeros((10,1))\n",
    "# ================================================================ #\n",
    "# YOUR CODE HERE:\n",
    "# complete the following code to plot both the training and test loss in the same plot\n",
    "# for m range from 1 to 10\n",
    "# ================================================================ #\n",
    "for i in range(1, 11):\n",
    "    reg = Regression(m=i, reg_param=0)\n",
    "    train_loss[i-1] = reg.closed_form(X_train, y_train)[0]\n",
    "    test_loss[i-1] = reg.loss_and_grad(X_test, y_test)[0]\n",
    "# ================================================================ #\n",
    "# END YOUR CODE HERE\n",
    "# ================================================================ #\n",
    "plt.plot(train_loss)\n",
    "plt.plot(test_loss, color='red')\n",
    "plt.show()"
   ]
  },
  {
   "cell_type": "code",
   "execution_count": 91,
   "id": "b464abca",
   "metadata": {},
   "outputs": [
    {
     "data": {
      "image/png": "[encoded data removed]",
      "text/plain": [
       "<Figure size 432x288 with 1 Axes>"
      ]
     },
     "metadata": {
      "needs_background": "light"
     },
     "output_type": "display_data"
    }
   ],
   "source": [
    "#PART (i): \n",
    "train_loss=np.zeros((10,1))\n",
    "test_loss=np.zeros((10,1))\n",
    "# ================================================================ #\n",
    "# YOUR CODE HERE:\n",
    "# complete the following code to plot both the training and test loss in the same plot\n",
    "# for m range from 1 to 10\n",
    "# ================================================================ #\n",
    "reg_params = [0, 1e-8, 1e-7, 1e-6, 1e-5, 1e-4, 1e-3, 1e-2, 1e-1, 1]\n",
    "for i in range(10):\n",
    "    reg = Regression(m=2, reg_param=reg_params[i])\n",
    "    reg.train_LR(X_train, y_train)\n",
    "    train_loss[i] = reg.loss_and_grad(X_train, y_train)[0]\n",
    "    test_loss[i] = reg.loss_and_grad(X_test, y_test)[0]\n",
    "# ================================================================ #\n",
    "# END YOUR CODE HERE\n",
    "# ================================================================ #\n",
    "\n",
    "plt.plot(train_loss)\n",
    "plt.plot(test_loss, color='red')\n",
    "plt.show()"
   ]
  }
 ],
 "metadata": {
  "kernelspec": {
   "display_name": "Python 3 (ipykernel)",
   "language": "python",
   "name": "python3"
  },
  "language_info": {
   "codemirror_mode": {
    "name": "ipython",
    "version": 3
   },
   "file_extension": ".py",
   "mimetype": "text/x-python",
   "name": "python",
   "nbconvert_exporter": "python",
   "pygments_lexer": "ipython3",
   "version": "3.10.2"
  }
 },
 "nbformat": 4,
 "nbformat_minor": 5
}
